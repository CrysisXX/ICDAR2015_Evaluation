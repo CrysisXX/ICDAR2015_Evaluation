{
 "cells": [
  {
   "cell_type": "code",
   "execution_count": 1,
   "metadata": {},
   "outputs": [],
   "source": [
    "import numpy as np\n",
    "import shapely\n",
    "from shapely.geometry import Polygon,MultiPoint\n",
    "import os\n",
    "from shapely.ops import cascaded_union\n",
    "import matplotlib.pyplot as plt\n",
    "%matplotlib inline\n",
    "def get_result_rectangle(path:str,num):\n",
    "    files=os.listdir(path)\n",
    "    rectangles=[[] for i in range(num)]\n",
    "\n",
    "    for filename in files:\n",
    "        fin=open(path+\"/\"+filename)\n",
    "        file_id=int(filename[:-4][7:])-1\n",
    "        for line in fin.readlines():\n",
    "            points=line.strip().split(',')\n",
    "            if len(points)>=8:\n",
    "                points=[int(points[p]) for p in range(8)]\n",
    "                rectangles[file_id].append(points)\n",
    "    return rectangles"
   ]
  },
  {
   "cell_type": "code",
   "execution_count": 2,
   "metadata": {},
   "outputs": [],
   "source": [
    "east=np.array(get_result_rectangle(\"./analyzation_source/evaluation_in_icdar2015/EAST_icdar2015_result\",500))\n",
    "pixel_link=np.array(get_result_rectangle(\"./analyzation_source/evaluation_in_icdar2015/PixelLink_icdar_result\",500))\n",
    "fots=np.array(get_result_rectangle(\"./analyzation_source/evaluation_in_icdar2015/FOTS_icdar2015_result\",500))\n",
    "ground_truth=np.array(get_result_rectangle(\"./analyzation_source/evaluation_in_icdar2015/Challenge4_Test_Task4_GT\",500))"
   ]
  },
  {
   "cell_type": "code",
   "execution_count": 3,
   "metadata": {},
   "outputs": [],
   "source": [
    "area=[1280*720]*500"
   ]
  },
  {
   "cell_type": "code",
   "execution_count": 4,
   "metadata": {},
   "outputs": [],
   "source": [
    "data_num=500"
   ]
  },
  {
   "cell_type": "code",
   "execution_count": 5,
   "metadata": {},
   "outputs": [],
   "source": [
    "def Intersect(predicted,ground_truth):\n",
    "    p_polyes=[Polygon(np.array(p).reshape(4,2)) for p in predicted]\n",
    "    g_polyes=[Polygon(np.array(gt).reshape(4,2)) for gt in ground_truth]\n",
    "    intersects=[p.intersection(gt) for p in p_polyes for gt in g_polyes]   \n",
    "    return cascaded_union(intersects).area"
   ]
  },
  {
   "cell_type": "code",
   "execution_count": 6,
   "metadata": {},
   "outputs": [],
   "source": [
    "def Area(poly):\n",
    "    poly=np.array(poly).reshape(4,2)\n",
    "    poly=Polygon(poly).convex_hull\n",
    "    return poly.area\n",
    "\n",
    "def Areaes(polyes):\n",
    "    polyes=[Polygon(np.array(poly).reshape(4,2)).convex_hull for poly in polyes]\n",
    "    return cascaded_union(polyes).area"
   ]
  },
  {
   "cell_type": "code",
   "execution_count": 7,
   "metadata": {},
   "outputs": [],
   "source": [
    "def BestMatchG(predicted,ground_truth):\n",
    "    if len(predicted)==0:\n",
    "        return 0\n",
    "    return max([2*Intersect([p],[ground_truth])/(Area(p)+Area(ground_truth)) for p in predicted])\n",
    "\n",
    "def BestMatchD(predicted,ground_truth):\n",
    "    if len(ground_truth)==0:\n",
    "        return 0\n",
    "    return max([2*Intersect([predicted],[gt])/(Area(predicted)+Area(gt)) for gt in ground_truth])\n",
    "def Recall_Precision_Matrix(G,D):\n",
    "    sigma=np.zeros([len(G),len(D)])\n",
    "    tao=np.zeros([len(G),len(D)])\n",
    "    for i,g in enumerate(G):\n",
    "        for j,d in enumerate(D):\n",
    "            intersect=Intersect([g],[d])\n",
    "            sigma[i,j]=intersect/Area(g)\n",
    "            tao[i,j]=intersect/Area(d)\n",
    "    return sigma,tao\n",
    "\n",
    "def MatchG(Gi,tr,sigma):\n",
    "    k=0\n",
    "    for s in sigma[Gi]:\n",
    "        if s>tr:\n",
    "            k+=1\n",
    "    if k>1:\n",
    "        return 1/(1+np.log(k))\n",
    "    return k\n",
    "\n",
    "def MatchD(Di,tp,tao):\n",
    "    k=0\n",
    "    for s in tao[:,Di].reshape(-1):\n",
    "        if s>tp:\n",
    "            k+=1\n",
    "    if k>1:\n",
    "        return 1/(1+np.log(k))\n",
    "    return k\n",
    "\n",
    "def Confusion_matrix(predicted,ground_truth,area):\n",
    "    gt_area=Areaes(ground_truth)\n",
    "    p_area=Areaes(predicted)\n",
    "    intersect=Intersect(predicted,ground_truth)\n",
    "    TP=intersect\n",
    "    FP=p_area-intersect\n",
    "    TN=area-gt_area-p_area+intersect\n",
    "    FN=gt_area-intersect\n",
    "    return TP,FP,TN,FN"
   ]
  },
  {
   "cell_type": "code",
   "execution_count": 8,
   "metadata": {},
   "outputs": [],
   "source": [
    "def Recall(predicted,ground_truth,method=\"simple\",average=\"micro\",area=[]):\n",
    "    result=0.0\n",
    "    num=0\n",
    "    if method==\"simple\":\n",
    "        for i in range(len(ground_truth)):\n",
    "            G=len(ground_truth[i])\n",
    "            G_sum=0\n",
    "            for gt in ground_truth[i]:\n",
    "                G_sum+=BestMatchG(predicted[i],gt)\n",
    "            if average=='macro':\n",
    "                if G!=0:\n",
    "                    result+=G_sum/G\n",
    "                num+=1\n",
    "            else:\n",
    "                result+=G_sum\n",
    "                num+=G\n",
    "    elif method==\"DetEval\":\n",
    "        for i in range(len(ground_truth)):\n",
    "            G=len(ground_truth[i])\n",
    "            G_sum=0\n",
    "            sigma,tao=Recall_Precision_Matrix(ground_truth[i],predicted[i])\n",
    "            for j in range(G):\n",
    "                G_sum+=MatchG(j,0.5,sigma)\n",
    "            if average=='macro':\n",
    "                if G!=0:\n",
    "                    result+=G_sum/G\n",
    "                num+=1\n",
    "            else:\n",
    "                result+=G_sum\n",
    "                num+=G\n",
    "    else:\n",
    "        i=0\n",
    "        for p,gt in zip(predicted,ground_truth):\n",
    "            TP,FP,TN,FN=Confusion_matrix(p,gt,area[i])\n",
    "            if TP+FN!=0:\n",
    "                result+=TP/(TP+FN)\n",
    "            num+=1\n",
    "            i+=1\n",
    "\n",
    "    return result/num\n",
    "\n",
    "def Precision(predicted,ground_truth,method=\"simple\",average=\"micro\",area=[]):\n",
    "    result=0.0\n",
    "    num=0\n",
    "    if method==\"simple\":\n",
    "        for i in range(len(ground_truth)):\n",
    "            P=len(ground_truth[i])\n",
    "            P_sum=0\n",
    "            for p in predicted[i]:\n",
    "                P_sum+=BestMatchD(p,ground_truth[i])\n",
    "            if average=='macro':\n",
    "                if P!=0:\n",
    "                    result+=P_sum/P\n",
    "                num+=1\n",
    "            else:\n",
    "                result+=P_sum\n",
    "                num+=P\n",
    "    elif method==\"DetEval\":\n",
    "        for i in range(len(predicted)):\n",
    "            P=len(predicted[i])\n",
    "            P_sum=0\n",
    "            sigma,tao=Recall_Precision_Matrix(ground_truth[i],predicted[i])\n",
    "            for j in range(P):\n",
    "                P_sum+=MatchD(j,0.5,tao)\n",
    "            if average=='macro':\n",
    "                if P!=0:\n",
    "                    result+=P_sum/P\n",
    "                num+=1\n",
    "            else:\n",
    "                result+=P_sum\n",
    "                num+=P\n",
    "    else:\n",
    "        i=0\n",
    "        for p,gt in zip(predicted,ground_truth):\n",
    "            TP,FP,TN,FN=Confusion_matrix(p,gt,area[i])\n",
    "            if TP+FP!=0:\n",
    "                result+= TP/(TP+FP)\n",
    "            num+=1\n",
    "        i+=1\n",
    "\n",
    "    return result/num\n",
    "\n",
    "def Accuracy(predicted,ground_truth,area=[]):\n",
    "    result=0.0\n",
    "    num=0\n",
    "    i=0\n",
    "    for p,gt in zip(predicted,ground_truth):\n",
    "        TP,FP,TN,FN=Confusion_matrix(p,gt,area[i])\n",
    "        result+=(TP+TN)/(TP+FP+FN+TN)\n",
    "        num+=1\n",
    "        i+=1\n",
    "    return result/num\n",
    "def F1_score(predicted,ground_truth,area=[]):\n",
    "    result=0.0\n",
    "    num=0\n",
    "    i=1\n",
    "    for p,gt in zip(predicted,ground_truth):\n",
    "        recall=Recall([p],[gt],method=\"ours\",area=area)\n",
    "        precision=Precision([p],[gt],method=\"ours\",area=area)\n",
    "        if recall+precision!=0:\n",
    "            result+=2*(recall * precision) / (recall + precision)\n",
    "        num+=1\n",
    "        i+=1\n",
    "    return result/num"
   ]
  },
  {
   "cell_type": "code",
   "execution_count": 9,
   "metadata": {
    "scrolled": false
   },
   "outputs": [],
   "source": [
    "def evaluate(predicted,ground_truth,area):\n",
    "    recall_micro=Recall(predicted,ground_truth,average=\"micro\",area=area)\n",
    "    recall_macro=Recall(predicted,ground_truth,average=\"macro\",area=area)\n",
    "    precision_micro=Precision(predicted,ground_truth,average=\"micro\",area=area)\n",
    "    precision_macro=Precision(predicted,ground_truth,average=\"macro\",area=area)\n",
    "    recall_deteval_micro=Recall(predicted,ground_truth,method=\"DetEval\",average=\"micro\",area=area)\n",
    "    recall_deteval_macro=Recall(predicted,ground_truth,method=\"DetEval\",average=\"macro\",area=area)\n",
    "    precision_deteval_micro=Precision(predicted,ground_truth,method=\"DetEval\",average=\"micro\",area=area)\n",
    "    precision_deteval_macro=Precision(predicted,ground_truth,method=\"DetEval\",average=\"macro\",area=area)\n",
    "    accuracy=Accuracy(predicted,ground_truth,area=area)\n",
    "    recall_ours=Recall(predicted,ground_truth,method=\"ours\",area=area)\n",
    "    precision_ours=Precision(predicted,ground_truth,method=\"ours\",area=area)\n",
    "    f1_score=F1_score(predicted,ground_truth,area=area)\n",
    "    print(\"Recall micro:{}\".format(recall_micro))\n",
    "    print(\"Recall macro:{}\".format(recall_macro))\n",
    "    print(\"Precision micro:{}\".format(precision_micro))\n",
    "    print(\"Precision macro:{}\".format(precision_macro))\n",
    "    print(\"Recall DetEval micro:{}\".format(recall_deteval_micro))\n",
    "    print(\"Recall DetEval macro:{}\".format(recall_deteval_macro))\n",
    "    print(\"just put the predicted result into conderation.\")\n",
    "    print(\"Precision DetEval micro:{}\".format(precision_deteval_micro))\n",
    "    print(\"Precision DetEval macro:{}\".format(precision_deteval_macro))\n",
    "    print(\"ours'method:\")\n",
    "    print(\"Accuracy:{}\".format(accuracy))\n",
    "    print(\"Recall:{}\".format(recall_ours))\n",
    "    print(\"Precision:{}\".format(precision_ours))\n",
    "    print(\"F1_score :{}\".format(f1_score))\n",
    "    \n",
    "    return recall_micro,recall_macro,precision_micro,precision_macro,recall_deteval_micro,recall_deteval_macro,precision_deteval_micro,precision_deteval_macro,accuracy,recall_ours,precision_ours,f1_score"
   ]
  },
  {
   "cell_type": "code",
   "execution_count": 10,
   "metadata": {},
   "outputs": [
    {
     "name": "stdout",
     "output_type": "stream",
     "text": [
      "Recall micro:0.3978892308828582\n",
      "Recall macro:0.4513718079518589\n",
      "Precision micro:0.38169980861812003\n",
      "Precision macro:0.4404876552396115\n",
      "Recall DetEval micro:0.4853722327343491\n",
      "Recall DetEval macro:0.5406797582960002\n",
      "just put the predicted result into conderation.\n",
      "Precision DetEval micro:0.9149337807668412\n",
      "Precision DetEval macro:0.8974471154790074\n",
      "ours'method:\n",
      "Accuracy:0.9846191337183036\n",
      "Recall:0.5660555995792264\n",
      "Precision:0.8385133854271255\n",
      "F1_score :0.6451203896114323\n"
     ]
    }
   ],
   "source": [
    "east_result=evaluate(east,ground_truth,area)"
   ]
  },
  {
   "cell_type": "code",
   "execution_count": 11,
   "metadata": {},
   "outputs": [
    {
     "name": "stdout",
     "output_type": "stream",
     "text": [
      "Recall micro:0.414592217076389\n",
      "Recall macro:0.47356786104161813\n",
      "Precision micro:0.4086923053572297\n",
      "Precision macro:0.46953529856416854\n",
      "Recall DetEval micro:0.47609045517127113\n",
      "Recall DetEval macro:0.5399495032487771\n",
      "just put the predicted result into conderation.\n",
      "Precision DetEval micro:0.9525477888511767\n",
      "Precision DetEval macro:0.9417979833661123\n",
      "ours'method:\n",
      "Accuracy:0.9859786624808787\n",
      "Recall:0.5911425005442346\n",
      "Precision:0.88663450005585\n",
      "F1_score :0.6765543756238008\n"
     ]
    }
   ],
   "source": [
    "pixel_result=evaluate(pixel_link,ground_truth,area)"
   ]
  },
  {
   "cell_type": "code",
   "execution_count": 12,
   "metadata": {},
   "outputs": [
    {
     "name": "stdout",
     "output_type": "stream",
     "text": [
      "Recall micro:0.3296761385917117\n",
      "Recall macro:0.3950530453730456\n",
      "Precision micro:0.3028828584628845\n",
      "Precision macro:0.37887185092950154\n",
      "Recall DetEval micro:0.45216048970476264\n",
      "Recall DetEval macro:0.5157055225453355\n",
      "just put the predicted result into conderation.\n",
      "Precision DetEval micro:0.7506896080539462\n",
      "Precision DetEval macro:0.7548186361636492\n",
      "ours'method:\n",
      "Accuracy:0.9809098986357646\n",
      "Recall:0.5541764249131296\n",
      "Precision:0.7040679410643313\n",
      "F1_score :0.58497611359559\n"
     ]
    }
   ],
   "source": [
    "fots_result=evaluate(fots,ground_truth,area)"
   ]
  },
  {
   "cell_type": "code",
   "execution_count": 13,
   "metadata": {},
   "outputs": [],
   "source": [
    "def show_comparison(east_result,pixel_result,fots_result):\n",
    "    plt.clf()\n",
    "    fig = plt.figure(figsize=[40,30])\n",
    "    ax = fig.add_subplot(111)\n",
    "    ax.tick_params(axis='both', which='major', labelsize=13)\n",
    "    ax.tick_params(axis='both', which='minor', labelsize=20)\n",
    "    ax.bar(np.array(list(range(len(east_result)))),east_result,0.3)\n",
    "    ax.bar(np.array(list(range(len(pixel_result))))+0.3,pixel_result,0.3)\n",
    "    ax.bar(np.array(list(range(len(fots_result))))+0.6,fots_result,0.3)\n",
    "    ax.set_xticks(np.array(list(range(len(east_result)))))\n",
    "    ax.set_ylim([0,1.05])\n",
    "    ax.set_xticklabels([\"Recall micro\",\"Recall macro\",\"Precision micro\",\"Precision macro\",\"Recall DetEval micro\",\"Recall DetEval macro\",\"Precision DetEval micro\",\"Precision DetEval macro\",\"Accuracy\",\"Recall\",\"Precision\",\"F1_score \"])\n",
    "    ax.legend([\"east\",\"pixel_link\",\"FOTS\"],prop={'size': 25})\n",
    "    plt.plot()\n",
    "    plt.savefig('./result.png')"
   ]
  },
  {
   "cell_type": "code",
   "execution_count": 14,
   "metadata": {},
   "outputs": [
    {
     "data": {
      "text/plain": [
       "<Figure size 432x288 with 0 Axes>"
      ]
     },
     "metadata": {},
     "output_type": "display_data"
    },
    {
     "data": {
      "image/png": "[encoded data removed]",
      "text/plain": [
       "<Figure size 2880x2160 with 1 Axes>"
      ]
     },
     "metadata": {
      "needs_background": "light"
     },
     "output_type": "display_data"
    }
   ],
   "source": [
    "show_comparison(east_result,pixel_result,fots_result)"
   ]
  },
  {
   "cell_type": "code",
   "execution_count": 16,
   "metadata": {},
   "outputs": [],
   "source": [
    "def get_areas(file:str):\n",
    "    with open(file,\"r\") as fout:\n",
    "        areas=fout.readlines()\n",
    "    areas=[int(a[:-1]) for a in areas]\n",
    "    return areas"
   ]
  },
  {
   "cell_type": "code",
   "execution_count": 17,
   "metadata": {},
   "outputs": [],
   "source": [
    "ours_east=np.array(get_result_rectangle(\"./analyzation_source/evaluation_in_customized_dataset/EAST_customized_result\",178))\n",
    "ours_pixel_link=np.array(get_result_rectangle(\"./analyzation_source/evaluation_in_customized_dataset/PixelLink_customized_result\",178))\n",
    "ours_fots=np.array(get_result_rectangle(\"./analyzation_source/evaluation_in_customized_dataset/FOT_customized_result\",178))\n",
    "ours_ground_truth=np.array(get_result_rectangle(\"./analyzation_source/evaluation_in_customized_dataset/customized_dataset_GT\",178))\n",
    "areas=get_areas(\"./analyzation_source/evaluation_in_customized_dataset/areas.txt\")"
   ]
  },
  {
   "cell_type": "code",
   "execution_count": 144,
   "metadata": {},
   "outputs": [
    {
     "name": "stdout",
     "output_type": "stream",
     "text": [
      "178\n"
     ]
    }
   ],
   "source": [
    "print(len(areas))"
   ]
  },
  {
   "cell_type": "code",
   "execution_count": 145,
   "metadata": {},
   "outputs": [
    {
     "name": "stdout",
     "output_type": "stream",
     "text": [
      "Recall micro:0.30164137316783796\n",
      "Recall macro:0.1675448999629211\n",
      "Precision micro:0.37771045723922186\n",
      "Precision macro:0.25538517797833743\n",
      "Recall DetEval micro:0.2510176390773406\n",
      "Recall DetEval macro:0.12222374850203947\n",
      "just put the predicted result into conderation.\n",
      "Precision DetEval micro:0.48556434727039716\n",
      "Precision DetEval macro:0.44181192862716406\n",
      "ours'method:\n",
      "Accuracy:0.3955933489930929\n",
      "Recall:0.17933655033952062\n",
      "Precision:0.4425319751899599\n",
      "F1_score :0.22349556914232319\n"
     ]
    }
   ],
   "source": [
    "ours_east_result=evaluate(ours_east,ours_ground_truth,areas)"
   ]
  },
  {
   "cell_type": "code",
   "execution_count": 146,
   "metadata": {},
   "outputs": [
    {
     "name": "stdout",
     "output_type": "stream",
     "text": [
      "Recall micro:0.314876608229771\n",
      "Recall macro:0.14747473052683163\n",
      "Precision micro:0.42434104043501103\n",
      "Precision macro:0.25712328039867477\n",
      "Recall DetEval micro:0.24515333706776846\n",
      "Recall DetEval macro:0.09455527648009157\n",
      "just put the predicted result into conderation.\n",
      "Precision DetEval micro:0.46321582547433887\n",
      "Precision DetEval macro:0.5276085416983439\n",
      "ours'method:\n",
      "Accuracy:0.31269081446887304\n",
      "Recall:0.15740593356288568\n",
      "Precision:0.5161034555089103\n",
      "F1_score :0.20636898463980086\n"
     ]
    }
   ],
   "source": [
    "ours_pixel_result=evaluate(ours_pixel_link,ours_ground_truth,areas)"
   ]
  },
  {
   "cell_type": "code",
   "execution_count": 147,
   "metadata": {},
   "outputs": [
    {
     "name": "stdout",
     "output_type": "stream",
     "text": [
      "Recall micro:0.08211271130956499\n",
      "Recall macro:0.10328520627038042\n",
      "Precision micro:0.09116227030508575\n",
      "Precision macro:0.1264360238053068\n",
      "Recall DetEval micro:0.06401795416322834\n",
      "Recall DetEval macro:0.06850661778923696\n",
      "just put the predicted result into conderation.\n",
      "Precision DetEval micro:0.4986002964874167\n",
      "Precision DetEval macro:0.3711598878579237\n",
      "ours'method:\n",
      "Accuracy:0.42832646134912244\n",
      "Recall:0.09953322408650464\n",
      "Precision:0.3640492474894299\n",
      "F1_score :0.12108651319913113\n"
     ]
    }
   ],
   "source": [
    "ours_fots_result=evaluate(ours_fots,ours_ground_truth,areas)"
   ]
  },
  {
   "cell_type": "code",
   "execution_count": 159,
   "metadata": {},
   "outputs": [
    {
     "data": {
      "text/plain": [
       "<Figure size 432x288 with 0 Axes>"
      ]
     },
     "metadata": {},
     "output_type": "display_data"
    },
    {
     "data": {
      "image/png": "[encoded data removed]",
      "text/plain": [
       "<Figure size 2880x2160 with 1 Axes>"
      ]
     },
     "metadata": {
      "needs_background": "light"
     },
     "output_type": "display_data"
    }
   ],
   "source": [
    "show_comparison(ours_east_result,ours_pixel_result,ours_fots_result)"
   ]
  },
  {
   "cell_type": "code",
   "execution_count": null,
   "metadata": {},
   "outputs": [],
   "source": []
  }
 ],
 "metadata": {
  "kernelspec": {
   "display_name": "Python 3",
   "language": "python",
   "name": "python3"
  },
  "language_info": {
   "codemirror_mode": {
    "name": "ipython",
    "version": 3
   },
   "file_extension": ".py",
   "mimetype": "text/x-python",
   "name": "python",
   "nbconvert_exporter": "python",
   "pygments_lexer": "ipython3",
   "version": "3.7.3"
  }
 },
 "nbformat": 4,
 "nbformat_minor": 2
}
